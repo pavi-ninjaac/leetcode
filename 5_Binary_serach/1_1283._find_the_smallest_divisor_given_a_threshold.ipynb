{
 "cells": [
  {
   "cell_type": "code",
   "execution_count": null,
   "metadata": {},
   "outputs": [],
   "source": [
    "MEDIUM"
   ]
  },
  {
   "cell_type": "markdown",
   "metadata": {},
   "source": [
    "Given an array of integers nums and an integer threshold, we will choose a positive integer divisor, divide all the array by it, and sum the division's result. Find the smallest divisor such that the result mentioned above is less than or equal to threshold.\n",
    "\n",
    "Each result of the division is rounded to the nearest integer greater than or equal to that element. (For example: 7/3 = 3 and 10/2 = 5).\n",
    "\n",
    "The test cases are generated so that there will be an answer.\n",
    "\n",
    " \n",
    "\n",
    "Example 1:\n",
    "\n",
    "Input: nums = [1,2,5,9], threshold = 6\n",
    "Output: 5\n",
    "Explanation: We can get a sum to 17 (1+2+5+9) if the divisor is 1. \n",
    "If the divisor is 4 we can get a sum of 7 (1+1+2+3) and if the divisor is 5 the sum will be 5 (1+1+1+2). \n",
    "Example 2:\n",
    "\n",
    "Input: nums = [44,22,33,11,1], threshold = 5\n",
    "Output: 44"
   ]
  },
  {
   "cell_type": "code",
   "execution_count": null,
   "metadata": {},
   "outputs": [],
   "source": [
    "class Solution:\n",
    "    def ceil_div(self,a,b):\n",
    "        # upside-down floor division:¹ -- for ceil divison\n",
    "        return -(a//-b)\n",
    "\n",
    "    def divisor_sum(self, a, m):\n",
    "        # m - divisor\n",
    "        # need to do the ceil division and and the division resut\n",
    "        ans = 0\n",
    "        for i in range(len(a)):\n",
    "            ans += self.ceil_div(a[i], m)\n",
    "        return ans\n",
    "\n",
    "    def smallestDivisor(self, nums, threshold: int) -> int:\n",
    "        high = max(nums)\n",
    "        low = 1\n",
    "        while low <= high:\n",
    "            mid = (low + high) // 2\n",
    "            hours_to_eat = self.divisor_sum(nums,mid)\n",
    "\n",
    "            if hours_to_eat <= threshold:\n",
    "                high = mid - 1\n",
    "            else:\n",
    "                low = mid + 1\n",
    "        return low"
   ]
  }
 ],
 "metadata": {
  "language_info": {
   "name": "python"
  }
 },
 "nbformat": 4,
 "nbformat_minor": 2
}
