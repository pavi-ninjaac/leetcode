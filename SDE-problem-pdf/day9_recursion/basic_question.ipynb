{
 "cells": [
  {
   "cell_type": "markdown",
   "metadata": {},
   "source": [
    "# basic codes :)"
   ]
  },
  {
   "cell_type": "markdown",
   "metadata": {},
   "source": [
    "- [1 | print n elements](#1)\n",
    "- [2 | Find nth fibonasi number](#2)\n",
    "- [3 | Sumazion of N elements and product of N elements](#3)\n",
    "- [4 | Reversing the array](#4)\n",
    "- [5 | Check a string palindrom or not](#5)\n",
    "- [6 | Is the given array sorted or not](#6)\n",
    "- [7 | Find the index of target element in array(first and all index)](#7)\n",
    "- [8 | Sum of digits and product of digits](#8)\n",
    "- [9 | Remove a charater froma string](#9)"
   ]
  },
  {
   "cell_type": "markdown",
   "metadata": {},
   "source": [
    "<a id=1></a>\n",
    "# 1 | print n elements"
   ]
  },
  {
   "cell_type": "code",
   "execution_count": 2,
   "metadata": {},
   "outputs": [
    {
     "name": "stdout",
     "output_type": "stream",
     "text": [
      "5\n",
      "4\n",
      "3\n",
      "2\n",
      "1\n"
     ]
    }
   ],
   "source": [
    "def printn(n):\n",
    "    if n ==0:\n",
    "        return\n",
    "    print(n)\n",
    "    printn(n-1)\n",
    "printn(5)"
   ]
  },
  {
   "cell_type": "code",
   "execution_count": 4,
   "metadata": {},
   "outputs": [
    {
     "name": "stdout",
     "output_type": "stream",
     "text": [
      "1\n",
      "2\n",
      "3\n",
      "4\n",
      "5\n"
     ]
    }
   ],
   "source": [
    "def printn(n):\n",
    "    if n ==0:\n",
    "        return\n",
    "    \n",
    "    printn(n-1)\n",
    "    print(n) # printing after recursion that is printing while recursion call coming back\n",
    "printn(5)"
   ]
  },
  {
   "cell_type": "markdown",
   "metadata": {},
   "source": [
    "<a id=2></a>\n",
    "# 2 | Find nth fibonasi number"
   ]
  },
  {
   "cell_type": "code",
   "execution_count": 6,
   "metadata": {},
   "outputs": [
    {
     "name": "stdout",
     "output_type": "stream",
     "text": [
      "5\n"
     ]
    }
   ],
   "source": [
    "def fibonaci(n):\n",
    "    if n == 0:\n",
    "        return 0\n",
    "    if n == 1:\n",
    "        return 1\n",
    "    return fibonaci(n-2) + fibonaci(n-1)\n",
    "a = fibonaci(5)\n",
    "print(a)"
   ]
  },
  {
   "cell_type": "code",
   "execution_count": null,
   "metadata": {},
   "outputs": [],
   "source": []
  },
  {
   "cell_type": "markdown",
   "metadata": {},
   "source": [
    "<a id=3></a>\n",
    "# 3 | Sumazion of N elements and product of N elements"
   ]
  },
  {
   "cell_type": "code",
   "execution_count": 7,
   "metadata": {},
   "outputs": [
    {
     "name": "stdout",
     "output_type": "stream",
     "text": [
      "55\n"
     ]
    }
   ],
   "source": [
    "# summazrion\n",
    "def sumazion(n):\n",
    "    if n == 0 :\n",
    "        return 0\n",
    "    return n + sumazion(n-1)\n",
    "a = sumazion(10)\n",
    "print(a)"
   ]
  },
  {
   "cell_type": "code",
   "execution_count": 11,
   "metadata": {},
   "outputs": [
    {
     "name": "stdout",
     "output_type": "stream",
     "text": [
      "6\n"
     ]
    }
   ],
   "source": [
    "# product\n",
    "def product(n):\n",
    "    if n == 0 :\n",
    "        return 1\n",
    "    return n * product(n-1)\n",
    "a = product(3)\n",
    "print(a)"
   ]
  },
  {
   "cell_type": "markdown",
   "metadata": {},
   "source": [
    "<a id=4></a>\n",
    "# 4 | Reversing the array"
   ]
  },
  {
   "cell_type": "code",
   "execution_count": 13,
   "metadata": {},
   "outputs": [
    {
     "name": "stdout",
     "output_type": "stream",
     "text": [
      "array [1, 3, 2, 5, 7]\n",
      "Reversed array [7, 5, 2, 3, 1]\n"
     ]
    }
   ],
   "source": [
    "\n",
    "def swap(arr, s,e):\n",
    "    arr[s], arr[e] = arr[e], arr[s]\n",
    "def reversing_array(arr, s ,e):\n",
    "    if e<s:\n",
    "        return\n",
    "    swap(arr,s,e)\n",
    "    reversing_array(arr, s+1 , e-1)\n",
    "\n",
    "arr = [1,3,2,5,7]\n",
    "print(\"array\", arr)\n",
    "reversing_array(arr, 0, len(arr)-1)\n",
    "print(\"Reversed array\",arr)"
   ]
  },
  {
   "cell_type": "markdown",
   "metadata": {},
   "source": [
    "<a id=5></a>\n",
    "# 5 | Check a string palindrom or not"
   ]
  },
  {
   "cell_type": "code",
   "execution_count": 18,
   "metadata": {},
   "outputs": [
    {
     "name": "stdout",
     "output_type": "stream",
     "text": [
      "Is string aabbaa palindrom? --> True\n"
     ]
    }
   ],
   "source": [
    "def ispalidrom(str, s,e):\n",
    "    if e<s:\n",
    "        return True\n",
    "    if str[s] != str[e]:\n",
    "        return False\n",
    "    return ispalidrom(str, s+1, e-1)\n",
    "\n",
    "str = \"aabbaa\"\n",
    "a = ispalidrom(str, 0, len(str)-1)\n",
    "print(\"Is string {} palindrom? --> {}\".format(str, a))"
   ]
  },
  {
   "cell_type": "markdown",
   "metadata": {},
   "source": [
    "<a id=6></a>\n",
    "# 6 | Is the given array sorted or not"
   ]
  },
  {
   "cell_type": "code",
   "execution_count": 24,
   "metadata": {},
   "outputs": [
    {
     "name": "stdout",
     "output_type": "stream",
     "text": [
      "Is array [1, 2, 5, 7] sorted? --> True\n",
      "Is array [1, 2, 5, 7, 2, 13] sorted? --> False\n"
     ]
    }
   ],
   "source": [
    "def is_sorted(arr, i, length):\n",
    "    if i == length:\n",
    "        return True\n",
    "    if arr[i] > arr[i+1]:\n",
    "        return False\n",
    "    return is_sorted(arr, i+1 , length)\n",
    "\n",
    "arr = [1,2,5,7]\n",
    "a = is_sorted(arr, 0, len(arr)-1)\n",
    "print(\"Is array {} sorted? --> {}\".format(arr, a))\n",
    "arr = [1,2,5,7,2,13]\n",
    "a = is_sorted(arr, 0, len(arr)-1)\n",
    "print(\"Is array {} sorted? --> {}\".format(arr, a))"
   ]
  },
  {
   "cell_type": "markdown",
   "metadata": {},
   "source": [
    "<a id=7></a>\n",
    "# 7 | Find the index of target element in array(first and all index)"
   ]
  },
  {
   "cell_type": "code",
   "execution_count": 32,
   "metadata": {},
   "outputs": [
    {
     "name": "stdout",
     "output_type": "stream",
     "text": [
      "target '55' index --->5\n",
      "target '5' index --->Target Not present in list\n"
     ]
    }
   ],
   "source": [
    "def index(arr, i, target, length):\n",
    "    if i == length:\n",
    "        return \"Target Not present in list\"\n",
    "    \n",
    "    if arr[i] == target:\n",
    "        return i\n",
    "    return index(arr, i+1, target, length)\n",
    "arr = [1,23,67,2,4,55]\n",
    "a = index(arr, 0, 55, len(arr))\n",
    "print(\"target '{}' index --->{}\".format(55, a))\n",
    "a = index(arr, 0, 5, len(arr))\n",
    "print(\"target '{}' index --->{}\".format(5 , a))"
   ]
  },
  {
   "cell_type": "code",
   "execution_count": 35,
   "metadata": {},
   "outputs": [
    {
     "name": "stdout",
     "output_type": "stream",
     "text": [
      "target '55' index --->[3, 6, 7]\n",
      "target '5' index --->[]\n"
     ]
    }
   ],
   "source": [
    "# find all index where the target is present in the array\n",
    "def index(arr, i, target, length, result):\n",
    "    if i == length:\n",
    "        return result\n",
    "    \n",
    "    if arr[i] == target:\n",
    "        result.append(i)\n",
    "    return index(arr, i+1, target, length, result)\n",
    "\n",
    "arr = [1,23,67,55,2,4,55,55]\n",
    "a = index(arr, 0, 55, len(arr), [])\n",
    "print(\"target '{}' index --->{}\".format(55, a))\n",
    "a = index(arr, 0, 5, len(arr), [])\n",
    "print(\"target '{}' index --->{}\".format(5 , a))"
   ]
  },
  {
   "cell_type": "code",
   "execution_count": 36,
   "metadata": {},
   "outputs": [
    {
     "name": "stdout",
     "output_type": "stream",
     "text": [
      "target '55' index --->[7, 6, 3]\n",
      "target '5' index --->[]\n"
     ]
    }
   ],
   "source": [
    "# find all index where the target is present in the array with passing result as a argument in the function\n",
    "def index(arr, i, target, length):\n",
    "    result = [] # this is belonged to this func only \n",
    "    if i == length:\n",
    "        return result\n",
    "    \n",
    "    if arr[i] == target:\n",
    "        result.append(i)\n",
    "    result_from_previous_call =  index(arr, i+1, target, length)\n",
    "\n",
    "    return result_from_previous_call + result # retruing this call result and result from previous recursion calls\n",
    "\n",
    "arr = [1,23,67,55,2,4,55,55]\n",
    "a = index(arr, 0, 55, len(arr))\n",
    "print(\"target '{}' index --->{}\".format(55, a))\n",
    "a = index(arr, 0, 5, len(arr))\n",
    "print(\"target '{}' index --->{}\".format(5 , a))"
   ]
  },
  {
   "cell_type": "markdown",
   "metadata": {},
   "source": [
    "<a id=8></a>\n",
    "# 8 | Sum of digits and product of digits"
   ]
  },
  {
   "cell_type": "code",
   "execution_count": 40,
   "metadata": {},
   "outputs": [],
   "source": [
    "del str"
   ]
  },
  {
   "cell_type": "code",
   "execution_count": 43,
   "metadata": {},
   "outputs": [
    {
     "name": "stdout",
     "output_type": "stream",
     "text": [
      "sum of digits 4521\n"
     ]
    }
   ],
   "source": [
    "# def sum_of_digit(num , power):\n",
    "#     if power == 0:\n",
    "#         return num\n",
    "\n",
    "#     return (num // (10 * power)) * 10 * power + sum_of_digit(num % (10 * power), power-1)\n",
    "\n",
    "# num = 4521\n",
    "# a = sum_of_digit(num, len(str(num)) -1 )\n",
    "# print(\"sum of digits\",a)"
   ]
  },
  {
   "cell_type": "code",
   "execution_count": 45,
   "metadata": {},
   "outputs": [
    {
     "name": "stdout",
     "output_type": "stream",
     "text": [
      "sum of digits 12\n"
     ]
    }
   ],
   "source": [
    "def sum_of_digit(num):\n",
    "    if num == 0:\n",
    "        return num\n",
    "\n",
    "    return num % 10 + sum_of_digit(num // 10)\n",
    "\n",
    "num = 4521\n",
    "a = sum_of_digit(num)\n",
    "print(\"sum of digits\",a)"
   ]
  },
  {
   "cell_type": "code",
   "execution_count": 47,
   "metadata": {},
   "outputs": [
    {
     "name": "stdout",
     "output_type": "stream",
     "text": [
      "product of digits 40\n"
     ]
    }
   ],
   "source": [
    "def product_of_digit(num):\n",
    "    if num == 0:\n",
    "        return 1\n",
    "\n",
    "    return num % 10 * product_of_digit(num // 10)\n",
    "\n",
    "num = 4521\n",
    "a = product_of_digit(num)\n",
    "print(\"product of digits\",a)"
   ]
  },
  {
   "cell_type": "markdown",
   "metadata": {},
   "source": [
    "\n",
    "<a id=9></a>\n",
    "# 9 | Remove a charater froma string"
   ]
  },
  {
   "cell_type": "code",
   "execution_count": 53,
   "metadata": {},
   "outputs": [
    {
     "name": "stdout",
     "output_type": "stream",
     "text": [
      "bdgtb\n"
     ]
    }
   ],
   "source": [
    "def remove_a_character(string, char):\n",
    "    if len(string) == 1:\n",
    "        if string != char:\n",
    "            return string\n",
    "        else:\n",
    "            return \"\"\n",
    "    if string[0] != char:\n",
    "        return string[0] + remove_a_character(string[1:], char)\n",
    "    else:\n",
    "        return remove_a_character(string[1:], char)\n",
    "\n",
    "\n",
    "a = remove_a_character(\"abdgtaba\", \"a\")\n",
    "print(a)"
   ]
  },
  {
   "cell_type": "markdown",
   "metadata": {},
   "source": [
    "<a id=10></a>\n",
    "# 10 | "
   ]
  },
  {
   "cell_type": "code",
   "execution_count": null,
   "metadata": {},
   "outputs": [],
   "source": []
  },
  {
   "cell_type": "code",
   "execution_count": null,
   "metadata": {},
   "outputs": [],
   "source": []
  },
  {
   "cell_type": "markdown",
   "metadata": {},
   "source": [
    "<a id=1></a>\n",
    "# 1 | print n elements"
   ]
  }
 ],
 "metadata": {
  "interpreter": {
   "hash": "916dbcbb3f70747c44a77c7bcd40155683ae19c65e1c03b4aa3499c5328201f1"
  },
  "kernelspec": {
   "display_name": "Python 3.8.10 64-bit",
   "language": "python",
   "name": "python3"
  },
  "language_info": {
   "codemirror_mode": {
    "name": "ipython",
    "version": 3
   },
   "file_extension": ".py",
   "mimetype": "text/x-python",
   "name": "python",
   "nbconvert_exporter": "python",
   "pygments_lexer": "ipython3",
   "version": "3.8.10"
  },
  "orig_nbformat": 4
 },
 "nbformat": 4,
 "nbformat_minor": 2
}
