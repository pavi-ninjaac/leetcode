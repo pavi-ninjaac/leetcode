{
 "cells": [
  {
   "cell_type": "code",
   "execution_count": null,
   "metadata": {},
   "outputs": [],
   "source": [
    "MEDIUM"
   ]
  },
  {
   "cell_type": "markdown",
   "metadata": {},
   "source": [
    "Given two strings s and p, return an array of all the start indices of p's \n",
    "anagrams\n",
    " in s. You may return the answer in any order.\n",
    "\n",
    " \n",
    "\n",
    "Example 1:\n",
    "\n",
    "Input: s = \"cbaebabacd\", p = \"abc\"\n",
    "Output: [0,6]\n",
    "Explanation:\n",
    "The substring with start index = 0 is \"cba\", which is an anagram of \"abc\".\n",
    "The substring with start index = 6 is \"bac\", which is an anagram of \"abc\".\n",
    "Example 2:\n",
    "\n",
    "Input: s = \"abab\", p = \"ab\"\n",
    "Output: [0,1,2]\n",
    "Explanation:\n",
    "The substring with start index = 0 is \"ab\", which is an anagram of \"ab\".\n",
    "The substring with start index = 1 is \"ba\", which is an anagram of \"ab\".\n",
    "The substring with start index = 2 is \"ab\", which is an anagram of \"ab\".\n",
    " \n",
    "\n",
    "Constraints:\n",
    "\n",
    "1 <= s.length, p.length <= 3 * 104\n",
    "s and p consist of lowercase English letters."
   ]
  },
  {
   "cell_type": "code",
   "execution_count": 1,
   "metadata": {},
   "outputs": [],
   "source": [
    "class Solution:\n",
    "    def findAnagrams(self, s: str, p: str):\n",
    "        d = {}\n",
    "        ans = []\n",
    "        len_p = len(p)\n",
    "        len_s = len(s)\n",
    "        start = 0\n",
    "        found = 0 # The values found which can be the part of anagram.\n",
    "\n",
    "        if len(p) > len(s):\n",
    "            return ans\n",
    "\n",
    "        # keep track of all the elements in the p.\n",
    "        for ele in p:\n",
    "            d[ele] = 0\n",
    "\n",
    "        # Find the calculation for the first k characters.\n",
    "        for i in range(len_p):\n",
    "            if s[i] in d:\n",
    "                found += 1\n",
    "        if found == 0:\n",
    "            ans.append(i - len_p + 1)\n",
    "\n",
    "        # For loop over the rest of the string.\n",
    "\n",
    "        for i in range(len_p, len_s):\n",
    "            # Increase the window size, if the ele present in p. then we found something we want.\n",
    "            if s[i] in d:\n",
    "                found += 1\n",
    "\n",
    "            # Decrease the window size.\n",
    "            if s[start] in d: # Then we lost something we want, decrese the counter.\n",
    "                found -= 1\n",
    "\n",
    "            if found == 0:\n",
    "                ans.append(i - len_p + 1)\n",
    "\n",
    "        return ans\n"
   ]
  },
  {
   "cell_type": "code",
   "execution_count": 2,
   "metadata": {},
   "outputs": [
    {
     "data": {
      "text/plain": [
       "[]"
      ]
     },
     "execution_count": 2,
     "metadata": {},
     "output_type": "execute_result"
    }
   ],
   "source": [
    "Solution().findAnagrams(s = \"cbaebabacd\", p = \"abc\")"
   ]
  },
  {
   "cell_type": "code",
   "execution_count": null,
   "metadata": {},
   "outputs": [],
   "source": []
  }
 ],
 "metadata": {
  "kernelspec": {
   "display_name": "Python 3",
   "language": "python",
   "name": "python3"
  },
  "language_info": {
   "codemirror_mode": {
    "name": "ipython",
    "version": 3
   },
   "file_extension": ".py",
   "mimetype": "text/x-python",
   "name": "python",
   "nbconvert_exporter": "python",
   "pygments_lexer": "ipython3",
   "version": "3.8.10"
  }
 },
 "nbformat": 4,
 "nbformat_minor": 2
}
