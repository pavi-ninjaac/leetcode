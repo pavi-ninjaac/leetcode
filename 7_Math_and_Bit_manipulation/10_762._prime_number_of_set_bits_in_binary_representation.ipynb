{
 "cells": [
  {
   "cell_type": "code",
   "execution_count": null,
   "metadata": {},
   "outputs": [],
   "source": [
    "EASY"
   ]
  },
  {
   "cell_type": "markdown",
   "metadata": {},
   "source": [
    "Given two integers left and right, return the count of numbers in the inclusive range [left, right] having a prime number of set bits in their binary representation.\n",
    "\n",
    "Recall that the number of set bits an integer has is the number of 1's present when written in binary.\n",
    "\n",
    "For example, 21 written in binary is 10101, which has 3 set bits.\n",
    " \n",
    "\n",
    "Example 1:\n",
    "\n",
    "Input: left = 6, right = 10\n",
    "Output: 4\n",
    "Explanation:\n",
    "6  -> 110 (2 set bits, 2 is prime)\n",
    "7  -> 111 (3 set bits, 3 is prime)\n",
    "8  -> 1000 (1 set bit, 1 is not prime)\n",
    "9  -> 1001 (2 set bits, 2 is prime)\n",
    "10 -> 1010 (2 set bits, 2 is prime)\n",
    "4 numbers have a prime number of set bits.\n",
    "Example 2:\n",
    "\n",
    "Input: left = 10, right = 15\n",
    "Output: 5\n",
    "Explanation:\n",
    "10 -> 1010 (2 set bits, 2 is prime)\n",
    "11 -> 1011 (3 set bits, 3 is prime)\n",
    "12 -> 1100 (2 set bits, 2 is prime)\n",
    "13 -> 1101 (3 set bits, 3 is prime)\n",
    "14 -> 1110 (3 set bits, 3 is prime)\n",
    "15 -> 1111 (4 set bits, 4 is not prime)\n",
    "5 numbers have a prime number of set bits.\n",
    " \n",
    "\n",
    "Constraints:\n",
    "\n",
    "1 <= left <= right <= 106\n",
    "0 <= right - left <= 104"
   ]
  },
  {
   "cell_type": "code",
   "execution_count": null,
   "metadata": {},
   "outputs": [],
   "source": [
    "class Solution:\n",
    "    def countPrimeSetBits(self, left: int, right: int) -> int:\n",
    "\n",
    "        primes = {2, 3, 5, 7, 11, 13, 17, 19}\n",
    "        count = 0\n",
    "\n",
    "        for num in range(left, right+1):\n",
    "\n",
    "            set_bits = num.bit_count()\n",
    "\n",
    "            if set_bits in primes:\n",
    "                count += 1\n",
    "\n",
    "        return count"
   ]
  },
  {
   "cell_type": "code",
   "execution_count": null,
   "metadata": {},
   "outputs": [],
   "source": []
  }
 ],
 "metadata": {
  "kernelspec": {
   "display_name": "Python 3",
   "language": "python",
   "name": "python3"
  },
  "language_info": {
   "codemirror_mode": {
    "name": "ipython",
    "version": 3
   },
   "file_extension": ".py",
   "mimetype": "text/x-python",
   "name": "python",
   "nbconvert_exporter": "python",
   "pygments_lexer": "ipython3",
   "version": "3.8.10"
  }
 },
 "nbformat": 4,
 "nbformat_minor": 2
}
