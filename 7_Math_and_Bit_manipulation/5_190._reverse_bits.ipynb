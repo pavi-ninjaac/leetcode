{
 "cells": [
  {
   "cell_type": "code",
   "execution_count": null,
   "metadata": {},
   "outputs": [],
   "source": [
    "EASY"
   ]
  },
  {
   "cell_type": "markdown",
   "metadata": {},
   "source": [
    "Reverse bits of a given 32 bits unsigned integer.\n",
    "\n",
    "Note:\n",
    "\n",
    "Note that in some languages, such as Java, there is no unsigned integer type. In this case, both input and output will be given as a signed integer type. They should not affect your implementation, as the integer's internal binary representation is the same, whether it is signed or unsigned.\n",
    "In Java, the compiler represents the signed integers using 2's complement notation. Therefore, in Example 2 above, the input represents the signed integer -3 and the output represents the signed integer -1073741825.\n",
    " \n",
    "\n",
    "Example 1:\n",
    "\n",
    "Input: n = 00000010100101000001111010011100\n",
    "Output:    964176192 (00111001011110000010100101000000)\n",
    "Explanation: The input binary string 00000010100101000001111010011100 represents the unsigned integer 43261596, so return 964176192 which its binary representation is 00111001011110000010100101000000.\n",
    "Example 2:\n",
    "\n",
    "Input: n = 11111111111111111111111111111101\n",
    "Output:   3221225471 (10111111111111111111111111111111)\n",
    "Explanation: The input binary string 11111111111111111111111111111101 represents the unsigned integer 4294967293, so return 3221225471 which its binary representation is 10111111111111111111111111111111."
   ]
  },
  {
   "cell_type": "code",
   "execution_count": 8,
   "metadata": {},
   "outputs": [],
   "source": [
    "class Solution:\n",
    "    def reverseBits(self, n: int) -> int:\n",
    "        result = 0\n",
    "        print((n & 1))\n",
    "        for i in range(32):\n",
    "            print(result)\n",
    "            result = (result << 1) | (n & 1)\n",
    "            n >>= 1\n",
    "        return result"
   ]
  },
  {
   "cell_type": "code",
   "execution_count": 9,
   "metadata": {},
   "outputs": [
    {
     "name": "stdout",
     "output_type": "stream",
     "text": [
      "1\n",
      "0\n",
      "1\n",
      "3\n",
      "6\n",
      "13\n",
      "26\n",
      "52\n",
      "104\n",
      "208\n",
      "416\n",
      "832\n",
      "1664\n",
      "3328\n",
      "6656\n",
      "13312\n",
      "26624\n",
      "53248\n",
      "106496\n",
      "212992\n",
      "425984\n",
      "851968\n",
      "1703936\n",
      "3407872\n",
      "6815744\n",
      "13631488\n",
      "27262976\n",
      "54525952\n",
      "109051904\n",
      "218103808\n",
      "436207616\n",
      "872415232\n",
      "1744830464\n"
     ]
    },
    {
     "data": {
      "text/plain": [
       "3489660928"
      ]
     },
     "execution_count": 9,
     "metadata": {},
     "output_type": "execute_result"
    }
   ],
   "source": [
    "Solution().reverseBits(11)"
   ]
  },
  {
   "cell_type": "code",
   "execution_count": null,
   "metadata": {},
   "outputs": [],
   "source": []
  }
 ],
 "metadata": {
  "kernelspec": {
   "display_name": "Python 3",
   "language": "python",
   "name": "python3"
  },
  "language_info": {
   "codemirror_mode": {
    "name": "ipython",
    "version": 3
   },
   "file_extension": ".py",
   "mimetype": "text/x-python",
   "name": "python",
   "nbconvert_exporter": "python",
   "pygments_lexer": "ipython3",
   "version": "3.8.10"
  }
 },
 "nbformat": 4,
 "nbformat_minor": 2
}
