{
 "cells": [
  {
   "cell_type": "code",
   "execution_count": null,
   "metadata": {},
   "outputs": [],
   "source": [
    "EASY"
   ]
  },
  {
   "cell_type": "markdown",
   "metadata": {},
   "source": [
    "The Hamming distance between two integers is the number of positions at which the corresponding bits are different.\n",
    "\n",
    "Given two integers x and y, return the Hamming distance between them.\n",
    "\n",
    " \n",
    "\n",
    "Example 1:\n",
    "\n",
    "Input: x = 1, y = 4\n",
    "Output: 2\n",
    "Explanation:\n",
    "1   (0 0 0 1)\n",
    "4   (0 1 0 0)\n",
    "       ↑   ↑\n",
    "The above arrows point to positions where the corresponding bits are different.\n",
    "Example 2:\n",
    "\n",
    "Input: x = 3, y = 1\n",
    "Output: 1"
   ]
  },
  {
   "cell_type": "code",
   "execution_count": null,
   "metadata": {},
   "outputs": [],
   "source": [
    "class Solution:\n",
    "    def hammingDistance(self, x: int, y: int) -> int:\n",
    "        # Calculate the XOR of the two numbers\n",
    "        xor = x ^ y\n",
    "\n",
    "        # Calculate the number of set bits in the XOR\n",
    "        distance = 0\n",
    "        while xor:\n",
    "            xor &= xor - 1\n",
    "            distance += 1\n",
    "\n",
    "        return distance"
   ]
  },
  {
   "cell_type": "markdown",
   "metadata": {},
   "source": [
    "# Same ans for this questions, 2220. Minimum Bit Flips to Convert Number\n",
    "make 10 - 7, who many flips you do\n",
    "\n",
    "\n",
    "A bit flip of a number x is choosing a bit in the binary representation of x and flipping it from either 0 to 1 or 1 to 0.\n",
    "\n",
    "For example, for x = 7, the binary representation is 111 and we may choose any bit (including any leading zeros not shown) and flip it. We can flip the first bit from the right to get 110, flip the second bit from the right to get 101, flip the fifth bit from the right (a leading zero) to get 10111, etc.\n",
    "Given two integers start and goal, return the minimum number of bit flips to convert start to goal.\n",
    "\n",
    " \n",
    "\n",
    "Example 1:\n",
    "\n",
    "Input: start = 10, goal = 7\n",
    "Output: 3\n",
    "Explanation: The binary representation of 10 and 7 are 1010 and 0111 respectively. We can convert 10 to 7 in 3 steps:\n",
    "- Flip the first bit from the right: 1010 -> 1011.\n",
    "- Flip the third bit from the right: 1011 -> 1111.\n",
    "- Flip the fourth bit from the right: 1111 -> 0111.\n",
    "It can be shown we cannot convert 10 to 7 in less than 3 steps. Hence, we return 3.\n",
    "Example 2:\n",
    "\n",
    "Input: start = 3, goal = 4\n",
    "Output: 3\n",
    "Explanation: The binary representation of 3 and 4 are 011 and 100 respectively. We can convert 3 to 4 in 3 steps:\n",
    "- Flip the first bit from the right: 011 -> 010.\n",
    "- Flip the second bit from the right: 010 -> 000.\n",
    "- Flip the third bit from the right: 000 -> 100.\n",
    "It can be shown we cannot convert 3 to 4 in less than 3 steps. Hence, we return 3."
   ]
  },
  {
   "cell_type": "code",
   "execution_count": null,
   "metadata": {},
   "outputs": [],
   "source": [
    "# make 10 - 7, who many flips you do -- humming distance bwt this two numbers\n",
    "\n",
    "\n",
    "class Solution:\n",
    "    def minBitFlips(self, x: int, y: int) -> int:\n",
    "        # Calculate the XOR of the two numbers\n",
    "        xor = x ^ y\n",
    "\n",
    "        # Calculate the number of set bits in the XOR\n",
    "        distance = 0\n",
    "        while xor:\n",
    "            xor &= xor - 1\n",
    "            distance += 1\n",
    "\n",
    "        return distance"
   ]
  }
 ],
 "metadata": {
  "language_info": {
   "name": "python"
  }
 },
 "nbformat": 4,
 "nbformat_minor": 2
}
